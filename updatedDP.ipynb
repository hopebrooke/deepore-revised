{
  "nbformat": 4,
  "nbformat_minor": 0,
  "metadata": {
    "colab": {
      "provenance": [],
      "authorship_tag": "ABX9TyPpEzEKz9uDo10qUd47saV9",
      "include_colab_link": true
    },
    "kernelspec": {
      "name": "python3",
      "display_name": "Python 3"
    },
    "language_info": {
      "name": "python"
    }
  },
  "cells": [
    {
      "cell_type": "markdown",
      "metadata": {
        "id": "view-in-github",
        "colab_type": "text"
      },
      "source": [
        "<a href=\"https://colab.research.google.com/github/hopebrooke/3931/blob/main/updatedDP.ipynb\" target=\"_parent\"><img src=\"https://colab.research.google.com/assets/colab-badge.svg\" alt=\"Open In Colab\"/></a>"
      ]
    },
    {
      "cell_type": "code",
      "source": [
        "import DeePore as dp\n",
        "import numpy as np\n",
        "import h5py"
      ],
      "metadata": {
        "id": "gikzqGqCtJas"
      },
      "execution_count": null,
      "outputs": []
    },
    {
      "cell_type": "code",
      "source": [
        "# dp.show_feature_maps doesn't work on ipynb due to floats/int conversion\n",
        "# redefining here with same code but added casting\n",
        "def show_feature_maps(A):\n",
        "  N= int(np.ceil(np.sqrt(A.shape[0])))\n",
        "    f=plt.figure(figsize=(N*10,N*10))\n",
        "    for I in range(A.shape[0]):\n",
        "        plt.subplot(N,N,I+1)\n",
        "        plt.imshow(dp.normal(np.squeeze(A[I,:,:,:])))\n",
        "        plt.axis('off')\n",
        "    plt.show()\n",
        "\n",
        "    f.savefig('images/initial_feature_maps.png')\n",
        "\n",
        "# using monkey patching to update orginal function (not usually advised!)\n",
        "dp.show_feature_maps = show_feature_maps"
      ],
      "metadata": {
        "id": "JBVTgiN-IxO7"
      },
      "execution_count": null,
      "outputs": []
    },
    {
      "cell_type": "code",
      "source": [
        "# redefining functions for changing slice volume\n",
        "# same as dp.slicevol but getting a different number of slices at different intervals\n",
        "\n",
        "# function that takes 2 slices from each direction\n",
        "def slicevol_2(A):\n",
        "    A=np.squeeze(A)\n",
        "    B=np.zeros((1,A.shape[0],A.shape[1],6))\n",
        "    # slices from front\n",
        "    B[0,:,:,0]=A[int(A.shape[0]/3),:,:]\n",
        "    B[0,:,:,1]=A[int(2 * A.shape[0]/3),:,:]\n",
        "    # slices from left\n",
        "    B[0,:,:,2]=A[:,int(A.shape[1]/3),:]\n",
        "    B[0,:,:,3]=A[:,int(2 * A.shape[1]/3),:]\n",
        "    # slices from top\n",
        "    B[0,:,:,4]=A[:,:,int(A.shape[2]/3)]\n",
        "    B[0,:,:,5]=A[:,:,int( 2 * A.shape[2]/3)]\n",
        "    return B\n",
        "\n",
        "# function that takes 3 slices from each direction\n",
        "def slicevol_3(A)\n",
        "    A=np.squeeze(A)\n",
        "    B=np.zeros((1,A.shape[0],A.shape[1],9))\n",
        "    # slices from front\n",
        "    B[0,:,:,0]=A[int(A.shape[0]/4),:,:]\n",
        "    B[0,:,:,1]=A[int(2 * A.shape[0]/4),:,:]\n",
        "    B[0,:,:,2]=A[int(3 * A.shape[0]/4),:,:]\n",
        "    # slices from left\n",
        "    B[0,:,:,3]=A[:,int(A.shape[1]/4),:]\n",
        "    B[0,:,:,4]=A[:,int(2 * A.shape[1]/4),:]\n",
        "    B[0,:,:,5]=A[:,int(3 * A.shape[1]/4),:]\n",
        "    # slices from top\n",
        "    B[0,:,:,6]=A[:,:,int(A.shape[2]/4)]\n",
        "    B[0,:,:,7]=A[:,:,int( 2 * A.shape[2]/4)]\n",
        "    B[0,:,:,8]=A[:,:,int( 3 * A.shape[2]/4)]\n",
        "    return B"
      ],
      "metadata": {
        "id": "aCsff3AetShl"
      },
      "execution_count": null,
      "outputs": []
    },
    {
      "cell_type": "code",
      "source": [
        "# if we change slice volume, we change how the compact dataset is created...\n",
        "# same as dp.create_compact_dataset but changing parameters for writeh5slice() call\n",
        "\n",
        "# for 2 slice in each direction:\n",
        "def create_compact_dataset_2(Path_complete,Path_compact):\n",
        "    S=hdf_shapes(Path_complete,['X'])\n",
        "    for I in range(S[0][0]):\n",
        "        X=readh5slice(Path_complete,'X',[I])\n",
        "        Y=readh5slice(Path_complete,'Y',[I])\n",
        "        X=slicevol(X)\n",
        "        X=ecl_distance(X)\n",
        "        writeh5slice(X,Path_compact,'X',Shape=[128,128,6])\n",
        "        writeh5slice(Y,Path_compact,'Y',Shape=[1515,1])\n",
        "\n",
        "# for 3 slice in each direction\n",
        "def create_compact_dataset_3(Path_complete,Path_compact):\n",
        "    S=hdf_shapes(Path_complete,['X'])\n",
        "    for I in range(S[0][0]):\n",
        "        X=readh5slice(Path_complete,'X',[I])\n",
        "        Y=readh5slice(Path_complete,'Y',[I])\n",
        "        X=slicevol(X)\n",
        "        X=ecl_distance(X)\n",
        "        writeh5slice(X,Path_compact,'X',Shape=[128,128,9])\n",
        "        writeh5slice(Y,Path_compact,'Y',Shape=[1515,1])"
      ],
      "metadata": {
        "id": "www7Cp-8wjrH"
      },
      "execution_count": null,
      "outputs": []
    }
  ]
}